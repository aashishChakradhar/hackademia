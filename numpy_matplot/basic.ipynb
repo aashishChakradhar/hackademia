{
 "cells": [
  {
   "cell_type": "markdown",
   "metadata": {
    "vscode": {
     "languageId": "html"
    }
   },
   "source": [
    "<h1> Numpy and Pandas Understanding</h1>\n",
    "<p>This notebook is about learning and understanding of basics of numpy and pandas.</p>\n",
    "<img src=\"https://encrypted-tbn0.gstatic.com/images?q=tbn:ANd9GcTvEfXHLIJLACY1DI30rAzDlbekLkgFXYm1DA&s\" alt=\"numpy logo\">"
   ]
  },
  {
   "cell_type": "code",
   "execution_count": 1,
   "metadata": {},
   "outputs": [],
   "source": [
    "num_list = [i for i in range (10)]\n",
    "sum_value = 0"
   ]
  },
  {
   "cell_type": "code",
   "execution_count": 2,
   "metadata": {},
   "outputs": [
    {
     "name": "stdout",
     "output_type": "stream",
     "text": [
      "45\n"
     ]
    }
   ],
   "source": [
    "for i in num_list:\n",
    "    sum_value += i\n",
    "print(sum_value)"
   ]
  },
  {
   "cell_type": "code",
   "execution_count": 3,
   "metadata": {},
   "outputs": [
    {
     "name": "stdout",
     "output_type": "stream",
     "text": [
      "45\n"
     ]
    }
   ],
   "source": [
    "print(sum(num_list))"
   ]
  },
  {
   "cell_type": "markdown",
   "metadata": {},
   "source": [
    "<h2>Understanding Numpy</h2>\n",
    "<p>installing Numpy from jupyter notebook </p>"
   ]
  },
  {
   "cell_type": "code",
   "execution_count": 4,
   "metadata": {},
   "outputs": [
    {
     "name": "stdout",
     "output_type": "stream",
     "text": [
      "Requirement already satisfied: numpy in /home/aashish/Desktop/vsCode/hackmedia/python/python_venv/lib/python3.12/site-packages (1.26.4)\n"
     ]
    }
   ],
   "source": [
    "!pip3 install numpy"
   ]
  },
  {
   "cell_type": "code",
   "execution_count": 5,
   "metadata": {},
   "outputs": [
    {
     "name": "stdout",
     "output_type": "stream",
     "text": [
      "[0 1 2 3 4 5 6 7 8 9] <class 'numpy.ndarray'>\n",
      "[0, 1, 2, 3, 4, 5, 6, 7, 8, 9] <class 'list'>\n"
     ]
    }
   ],
   "source": [
    "import numpy as np\n",
    "\n",
    "# myarray = np.zeros(4)\n",
    "# print(myarray,type(myarray))\n",
    "\n",
    "myarray = np.array(num_list)\n",
    "print(myarray,type(myarray))\n",
    "\n",
    "print(num_list,type(num_list))\n"
   ]
  },
  {
   "cell_type": "code",
   "execution_count": 6,
   "metadata": {},
   "outputs": [
    {
     "name": "stdout",
     "output_type": "stream",
     "text": [
      "45\n",
      "4.5\n",
      "2.8722813232690143\n",
      "9\n",
      "0\n"
     ]
    }
   ],
   "source": [
    "print(myarray.sum())\n",
    "print(myarray.mean())\n",
    "print(myarray.std())\n",
    "print(myarray.max())\n",
    "print(myarray.min())"
   ]
  },
  {
   "cell_type": "code",
   "execution_count": 7,
   "metadata": {},
   "outputs": [
    {
     "name": "stdout",
     "output_type": "stream",
     "text": [
      "45\n",
      "0\n",
      "9\n",
      "4.5\n",
      "3.0276503540974917\n"
     ]
    }
   ],
   "source": [
    "import statistics\n",
    "print(sum(num_list))\n",
    "print(min(num_list))\n",
    "print(max(num_list))\n",
    "print(sum(num_list)/len(num_list))\n",
    "print(statistics.stdev(num_list))"
   ]
  },
  {
   "cell_type": "code",
   "execution_count": 8,
   "metadata": {},
   "outputs": [
    {
     "name": "stdout",
     "output_type": "stream",
     "text": [
      "[[ 1 20]\n",
      " [20  1]] <class 'numpy.ndarray'>\n",
      "[[0. 0.]\n",
      " [0. 0.]] <class 'numpy.ndarray'>\n",
      "[[1. 1.]\n",
      " [1. 1.]] <class 'numpy.ndarray'>\n"
     ]
    }
   ],
   "source": [
    "matrix = np.array([[1,20],[20,1]])\n",
    "print(matrix,type(matrix))\n",
    "\n",
    "zeromatrix = np.zeros((2,2))\n",
    "print(zeromatrix,type(zeromatrix))\n",
    "\n",
    "onematrix = np.ones((2,2))\n",
    "print(onematrix,type(onematrix))"
   ]
  },
  {
   "cell_type": "code",
   "execution_count": 9,
   "metadata": {},
   "outputs": [
    {
     "name": "stdout",
     "output_type": "stream",
     "text": [
      "[[  1   8  33]\n",
      " [  5  42 104]\n",
      " [  9  42   3]]\n",
      "[[110  38  52]\n",
      " [153  72  98]\n",
      " [115 132 174]]\n",
      "[[ -38    8    2]\n",
      " [ -22   57  -29]\n",
      " [  61    6 -187]]\n"
     ]
    }
   ],
   "source": [
    "matrixA = np.array([[1,2,11],[1,7,13],[1,21,1]])\n",
    "matrixB = np.array([[1,4,3],[5,6,8],[9,2,3]])\n",
    "# print(matrixA +matrixB)\n",
    "# print(matrixA - matrixB)\n",
    "print(matrixA * matrixB)\n",
    "print(np.dot(matrixA,matrixB))\n",
    "print(np.cross(matrixA,matrixB))"
   ]
  },
  {
   "cell_type": "markdown",
   "metadata": {},
   "source": [
    "<p>input form user</p>"
   ]
  },
  {
   "cell_type": "code",
   "execution_count": 10,
   "metadata": {},
   "outputs": [
    {
     "name": "stdout",
     "output_type": "stream",
     "text": [
      "[[ 3.  3.  3.]\n",
      " [ 1.  5.  7.]\n",
      " [ 9. 10.  6.]]\n"
     ]
    }
   ],
   "source": [
    "m = int(input('number of m:'))\n",
    "n = int(input('number of n:'))\n",
    "matrix = np.zeros((m,n))\n",
    "for i in range(m):\n",
    "    for j in range(n):\n",
    "        matrix[i][j]=int(input(f'enter {i}{j}: '))\n",
    "print(matrix)"
   ]
  },
  {
   "cell_type": "code",
   "execution_count": 11,
   "metadata": {},
   "outputs": [
    {
     "name": "stdout",
     "output_type": "stream",
     "text": [
      "-88.00000000000003 <class 'numpy.float64'>\n",
      "97.99999999999996 <class 'numpy.float64'>\n",
      "[[ 1  1  1]\n",
      " [ 2  7 21]\n",
      " [11 13  1]]\n",
      "[[ -4.77272727  -2.36363636 -10.01136364]\n",
      " [  0.63636364   0.18181818   0.56818182]\n",
      " [  0.40909091   0.54545455   1.07954545]]\n"
     ]
    }
   ],
   "source": [
    "determinantA = np.linalg.det(matrixA)\n",
    "print(determinantA,type(determinantA))\n",
    "\n",
    "determinantB = np.linalg.det(matrixB)\n",
    "print(determinantB,type(determinantB))\n",
    "\n",
    "transposed = matrixA.T\n",
    "print(transposed)\n",
    "\n",
    "solution = np.linalg.solve(matrixA,matrixB)\n",
    "print(solution)"
   ]
  },
  {
   "cell_type": "code",
   "execution_count": 12,
   "metadata": {},
   "outputs": [
    {
     "name": "stdout",
     "output_type": "stream",
     "text": [
      "[1.         1.44444444 1.88888889 2.33333333 2.77777778 3.22222222\n",
      " 3.66666667 4.11111111 4.55555556 5.        ]\n"
     ]
    }
   ],
   "source": [
    "arrayofnumbers = np.linspace(1,5,10)\n",
    "print(arrayofnumbers)"
   ]
  },
  {
   "cell_type": "code",
   "execution_count": 13,
   "metadata": {},
   "outputs": [
    {
     "name": "stdout",
     "output_type": "stream",
     "text": [
      "[2.         1.41421356]\n",
      "22026.465794806718\n",
      "[ 0.84147098  0.90929743  0.14112001 -0.7568025 ]\n"
     ]
    }
   ],
   "source": [
    "print(np.sqrt([4,2]))\n",
    "print(np.exp(10))\n",
    "print(np.sin([1,2,3,4]))"
   ]
  },
  {
   "cell_type": "code",
   "execution_count": null,
   "metadata": {},
   "outputs": [],
   "source": []
  }
 ],
 "metadata": {
  "kernelspec": {
   "display_name": "python_venv",
   "language": "python",
   "name": "python3"
  },
  "language_info": {
   "codemirror_mode": {
    "name": "ipython",
    "version": 3
   },
   "file_extension": ".py",
   "mimetype": "text/x-python",
   "name": "python",
   "nbconvert_exporter": "python",
   "pygments_lexer": "ipython3",
   "version": "3.12.3"
  }
 },
 "nbformat": 4,
 "nbformat_minor": 2
}
